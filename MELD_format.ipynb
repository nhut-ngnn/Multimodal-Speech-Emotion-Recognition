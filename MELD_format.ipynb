{
 "cells": [
  {
   "cell_type": "code",
   "execution_count": 1,
   "metadata": {},
   "outputs": [],
   "source": [
    "import pandas as pd\n",
    "\n",
    "file_path = \"C:/Users/admin/Documents/EmotionData/MELD.Raw/train/train_sent_emo.csv\"\n",
    "df = pd.read_csv(file_path, encoding=\"windows-1252\")  # Replace with the correct encoding\n"
   ]
  },
  {
   "cell_type": "code",
   "execution_count": 2,
   "metadata": {},
   "outputs": [
    {
     "name": "stdout",
     "output_type": "stream",
     "text": [
      "                                              File Path  \\\n",
      "0     C:/Users/admin/Documents/EmotionData/MELD.Raw/...   \n",
      "1     C:/Users/admin/Documents/EmotionData/MELD.Raw/...   \n",
      "2     C:/Users/admin/Documents/EmotionData/MELD.Raw/...   \n",
      "3     C:/Users/admin/Documents/EmotionData/MELD.Raw/...   \n",
      "4     C:/Users/admin/Documents/EmotionData/MELD.Raw/...   \n",
      "...                                                 ...   \n",
      "9984  C:/Users/admin/Documents/EmotionData/MELD.Raw/...   \n",
      "9985  C:/Users/admin/Documents/EmotionData/MELD.Raw/...   \n",
      "9986  C:/Users/admin/Documents/EmotionData/MELD.Raw/...   \n",
      "9987  C:/Users/admin/Documents/EmotionData/MELD.Raw/...   \n",
      "9988  C:/Users/admin/Documents/EmotionData/MELD.Raw/...   \n",
      "\n",
      "                                                   Text Emotion  \n",
      "0     also I was the point person on my company’s tr...       0  \n",
      "1                      You must’ve had your hands full.       0  \n",
      "2                               That I did. That I did.       0  \n",
      "3         So let’s talk a little bit about your duties.       0  \n",
      "4                                My duties?  All right.       1  \n",
      "...                                                 ...     ...  \n",
      "9984                                         You or me?       0  \n",
      "9985  I got it. Uh, Joey, women don t have Adam s ap...       0  \n",
      "9986               You guys are messing with me, right?       1  \n",
      "9987                                              Yeah.       0  \n",
      "9988  That was a good one. For a second there, I was...       1  \n",
      "\n",
      "[9989 rows x 3 columns]\n"
     ]
    }
   ],
   "source": [
    "import pandas as pd\n",
    "\n",
    "# Example DataFrame similar to your provided MELD data\n",
    "emotion_mapping = {\n",
    "    \"neutral\": \"0\",\n",
    "    \"surprise\": \"1\", \n",
    "    \"joy\": \"1\",\n",
    "    \"fear\": \"2\",\n",
    "    \"disgust\": \"2\",\n",
    "    \"anger\": \"3\"\n",
    "}\n",
    "df[\"Emotion\"] = df[\"Emotion\"].map(emotion_mapping)\n",
    "\n",
    "# Generate the file path column\n",
    "base_path = \"C:/Users/admin/Documents/EmotionData/MELD.Raw/train/train_splits/\"\n",
    "df[\"File Path\"] = df.apply(\n",
    "    lambda row: f\"{base_path}dia{row['Dialogue_ID']}_utt{row['Utterance_ID']}.mp4\" if not pd.isna(row['Dialogue_ID']) and not pd.isna(row['Utterance_ID']) else None, axis=1\n",
    ")\n",
    "\n",
    "# Prepare the final DataFrame with required columns\n",
    "final_df = df[[\"File Path\", \"Utterance\", \"Emotion\"]].rename(columns={\"Utterance\": \"Text\"}).dropna(subset=[\"File Path\"])\n",
    "\n",
    "# Save to CSV or display\n",
    "final_df.to_csv(\"meld_metadata.csv\", index=False)\n",
    "print(final_df)\n"
   ]
  },
  {
   "cell_type": "code",
   "execution_count": 3,
   "metadata": {},
   "outputs": [
    {
     "data": {
      "text/plain": [
       "Index(['Sr No.', 'Utterance', 'Speaker', 'Emotion', 'Sentiment', 'Dialogue_ID',\n",
       "       'Utterance_ID', 'Season', 'Episode', 'StartTime', 'EndTime',\n",
       "       'File Path'],\n",
       "      dtype='object')"
      ]
     },
     "execution_count": 3,
     "metadata": {},
     "output_type": "execute_result"
    }
   ],
   "source": [
    "df.columns"
   ]
  },
  {
   "cell_type": "code",
   "execution_count": 4,
   "metadata": {},
   "outputs": [],
   "source": [
    "df= pd.read_csv(\"meld_metadata.csv\")"
   ]
  },
  {
   "cell_type": "code",
   "execution_count": 5,
   "metadata": {},
   "outputs": [
    {
     "name": "stdout",
     "output_type": "stream",
     "text": [
      "0.0    4710\n",
      "1.0    2948\n",
      "3.0    1109\n",
      "2.0     539\n",
      "Name: Emotion, dtype: int64\n"
     ]
    }
   ],
   "source": [
    "emotion_counts = df[\"Emotion\"].value_counts()\n",
    "print(emotion_counts)"
   ]
  },
  {
   "cell_type": "code",
   "execution_count": 7,
   "metadata": {},
   "outputs": [],
   "source": [
    "df = df.dropna(subset=[\"Emotion\"])"
   ]
  },
  {
   "cell_type": "code",
   "execution_count": 9,
   "metadata": {},
   "outputs": [],
   "source": [
    "df.to_csv(\"meld_metadata.csv\", index=False)"
   ]
  },
  {
   "cell_type": "code",
   "execution_count": null,
   "metadata": {},
   "outputs": [],
   "source": []
  }
 ],
 "metadata": {
  "kernelspec": {
   "display_name": "base",
   "language": "python",
   "name": "python3"
  },
  "language_info": {
   "codemirror_mode": {
    "name": "ipython",
    "version": 3
   },
   "file_extension": ".py",
   "mimetype": "text/x-python",
   "name": "python",
   "nbconvert_exporter": "python",
   "pygments_lexer": "ipython3",
   "version": "3.11.5"
  }
 },
 "nbformat": 4,
 "nbformat_minor": 2
}

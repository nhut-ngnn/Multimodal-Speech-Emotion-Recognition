{
 "cells": [
  {
   "cell_type": "code",
   "execution_count": 1,
   "metadata": {},
   "outputs": [],
   "source": [
    "import warnings\n",
    "warnings.filterwarnings('ignore')\n",
    "warnings.filterwarnings('ignore', category=DeprecationWarning)\n",
    "warnings.filterwarnings('ignore', category=FutureWarning)\n",
    "import torch\n",
    "import torchaudio\n",
    "import pickle\n",
    "import numpy as np\n",
    "import pandas as pd\n",
    "from transformers import BertTokenizer, BertModel\n",
    "from speechbrain.pretrained import EncoderClassifier\n",
    "device = torch.device('cuda' if torch.cuda.is_available() else 'cpu')"
   ]
  },
  {
   "cell_type": "code",
   "execution_count": 2,
   "metadata": {},
   "outputs": [],
   "source": [
    "# IEMOCAP dataset paths\n",
    "IEMOCAP_TRAIN_PATH = \"metadata/IEMOCAP_metadata_train.csv\"\n",
    "IEMOCAP_VAL_PATH = \"metadata/IEMOCAP_metadata_val.csv\"\n",
    "IEMOCAP_TEST_PATH = \"metadata/IEMOCAP_metadata_test.csv\"\n"
   ]
  },
  {
   "cell_type": "code",
   "execution_count": 3,
   "metadata": {},
   "outputs": [
    {
     "name": "stderr",
     "output_type": "stream",
     "text": [
      "INFO:speechbrain.utils.fetching:Fetch hyperparams.yaml: Fetching from HuggingFace Hub 'speechbrain/spkrec-ecapa-voxceleb' if not cached\n",
      "INFO:speechbrain.utils.fetching:Fetch custom.py: Fetching from HuggingFace Hub 'speechbrain/spkrec-ecapa-voxceleb' if not cached\n",
      "INFO:speechbrain.utils.fetching:Fetch embedding_model.ckpt: Fetching from HuggingFace Hub 'speechbrain/spkrec-ecapa-voxceleb' if not cached\n",
      "INFO:speechbrain.utils.fetching:Fetch embedding_model.ckpt: Fetching from HuggingFace Hub 'speechbrain/spkrec-ecapa-voxceleb' if not cached\n",
      "INFO:speechbrain.utils.fetching:Fetch mean_var_norm_emb.ckpt: Fetching from HuggingFace Hub 'speechbrain/spkrec-ecapa-voxceleb' if not cached\n",
      "INFO:speechbrain.utils.fetching:Fetch mean_var_norm_emb.ckpt: Fetching from HuggingFace Hub 'speechbrain/spkrec-ecapa-voxceleb' if not cached\n",
      "INFO:speechbrain.utils.fetching:Fetch classifier.ckpt: Fetching from HuggingFace Hub 'speechbrain/spkrec-ecapa-voxceleb' if not cached\n",
      "INFO:speechbrain.utils.fetching:Fetch classifier.ckpt: Fetching from HuggingFace Hub 'speechbrain/spkrec-ecapa-voxceleb' if not cached\n",
      "INFO:speechbrain.utils.fetching:Fetch label_encoder.txt: Fetching from HuggingFace Hub 'speechbrain/spkrec-ecapa-voxceleb' if not cached\n",
      "INFO:speechbrain.utils.fetching:Fetch label_encoder.txt: Fetching from HuggingFace Hub 'speechbrain/spkrec-ecapa-voxceleb' if not cached\n",
      "INFO:speechbrain.utils.parameter_transfer:Loading pretrained files for: embedding_model, mean_var_norm_emb, classifier, label_encoder\n"
     ]
    },
    {
     "name": "stdout",
     "output_type": "stream",
     "text": [
      "All loaded\n"
     ]
    }
   ],
   "source": [
    "audio_model = EncoderClassifier.from_hparams(source=\"speechbrain/spkrec-ecapa-voxceleb\")\n",
    "print(\"All loaded\")"
   ]
  },
  {
   "cell_type": "code",
   "execution_count": null,
   "metadata": {},
   "outputs": [],
   "source": [
    "# Create training set for IEMOCAP\n",
    "train_list = pd.read_csv(IEMOCAP_TRAIN_PATH)\n",
    "train_pkl = []\n",
    "with torch.no_grad():\n",
    "    for idx in range(len(train_list)):\n",
    "        audio_file = train_list['audio_file'][idx]\n",
    "        audio_signal, _ = torchaudio.load(audio_file, normalize=True)\n",
    "        audio_outputs = audio_model.encode_batch(audio_signal)\n",
    "        audio_embed = audio_outputs.mean(axis=0)[0]\n",
    "        label = train_list['label'][idx]\n",
    "        label = torch.tensor(label)\n",
    "        train_pkl.append({\n",
    "            'audio_embed': audio_embed,\n",
    "            'label': label\n",
    "        })\n",
    "\n",
    "train_file = open(\"features/IEMOCAP_ECAPA_train.pkl\", \"wb\")\n",
    "\n",
    "pickle.dump(train_pkl, train_file)\n",
    "\n",
    "train_file.close()"
   ]
  },
  {
   "cell_type": "code",
   "execution_count": 6,
   "metadata": {},
   "outputs": [],
   "source": [
    "# Create validation set for IEMOCAP\n",
    "val_list = pd.read_csv(IEMOCAP_VAL_PATH)\n",
    "val_pkl = []\n",
    "with torch.no_grad():\n",
    "    for idx in range(len(val_list)):\n",
    "        audio_file = val_list['audio_file'][idx]\n",
    "        audio_signal, _ = torchaudio.load(audio_file, normalize=True)\n",
    "        audio_outputs = audio_model.encode_batch(audio_signal)\n",
    "        audio_embed = audio_outputs.mean(axis=0)[0]\n",
    "        label = val_list['label'][idx]\n",
    "        label = torch.tensor(label)\n",
    "        val_pkl.append({\n",
    "            'audio_embed': audio_embed,\n",
    "            'label': label\n",
    "        })\n",
    "val_file = open(\"features/IEMOCAP_ECAPA_val.pkl\", \"wb\")\n",
    "\n",
    "pickle.dump(val_pkl, val_file)\n",
    "\n",
    "val_file.close()\n"
   ]
  },
  {
   "cell_type": "code",
   "execution_count": 7,
   "metadata": {},
   "outputs": [],
   "source": [
    "test_list = pd.read_csv(IEMOCAP_TEST_PATH)\n",
    "test_pkl = []\n",
    "with torch.no_grad():\n",
    "    for idx in range(len(test_list)):\n",
    "        audio_file = test_list['audio_file'][idx]\n",
    "        audio_signal, _ = torchaudio.load(audio_file, normalize=True)\n",
    "        audio_outputs = audio_model.encode_batch(audio_signal)\n",
    "        audio_embed = audio_outputs.mean(axis=0)[0]\n",
    "        label = test_list['label'][idx]\n",
    "        label = torch.tensor(label)\n",
    "        test_pkl.append({\n",
    "            'audio_embed': audio_embed,\n",
    "            'label': label\n",
    "        })\n",
    "test_file = open(\"features/IEMOCAP_ECAPA_test.pkl\", \"wb\")\n",
    "\n",
    "pickle.dump(test_pkl, test_file)\n",
    "\n",
    "test_file.close()"
   ]
  }
 ],
 "metadata": {
  "kernelspec": {
   "display_name": "Python 3",
   "language": "python",
   "name": "python3"
  },
  "language_info": {
   "codemirror_mode": {
    "name": "ipython",
    "version": 3
   },
   "file_extension": ".py",
   "mimetype": "text/x-python",
   "name": "python",
   "nbconvert_exporter": "python",
   "pygments_lexer": "ipython3",
   "version": "3.11.7"
  }
 },
 "nbformat": 4,
 "nbformat_minor": 2
}
